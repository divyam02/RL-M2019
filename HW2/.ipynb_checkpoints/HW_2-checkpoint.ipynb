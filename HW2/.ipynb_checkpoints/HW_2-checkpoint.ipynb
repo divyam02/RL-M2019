{
 "cells": [
  {
   "cell_type": "code",
   "execution_count": 3,
   "metadata": {},
   "outputs": [],
   "source": [
    "import numpy as np"
   ]
  },
  {
   "cell_type": "code",
   "execution_count": 11,
   "metadata": {},
   "outputs": [],
   "source": [
    "class gridWorld():\n",
    "    def __init__(self, grid_size=5, actions=['N', 'S', 'E', 'W'], gamma=0.9):\n",
    "        self.grid_size = grid_size\n",
    "        self.actions = actions\n",
    "        self.grid_values = np.zeros((grid_size, grid_size))\n",
    "        self.prev_values = np.zeros((grid_size, grid_size))\n",
    "        self.gamma = gamma\n",
    "        \n",
    "    def get_new_state_reward(self, state, action):\n",
    "        \"\"\"\n",
    "        input state tuple and action char\n",
    "        \n",
    "        Returns state, reward\n",
    "        \"\"\"\n",
    "        x, y = state\n",
    "        if (x==0 and y==0) and (action=='N' or action=='W'):\n",
    "            return (x, y), -1\n",
    "        \n",
    "        elif (x==0 and y==self.grid_size-1) and (action=='N' or action=='E'):\n",
    "            return (x, y), -1\n",
    "        \n",
    "        elif (x==self.grid_size-1 and y==self.grid_size-1) and (action=='S' or action=='E'):\n",
    "            return (x, y), -1\n",
    "        \n",
    "        elif (x==self.grid_size-1 and y==0) and (action=='S' or action=='W'):\n",
    "            return (x, y), -1\n",
    "        \n",
    "        elif x==0 and action=='N':\n",
    "            return (x, y), -1\n",
    "        \n",
    "        elif x==self.grid_size-1 and action=='S':\n",
    "            return (x, y), -1\n",
    "        \n",
    "        elif y==0 and action=='W':\n",
    "            return (x, y), -1\n",
    "        \n",
    "        elif y==self.grid_size-1 and action=='E':\n",
    "            return (x, y), -1\n",
    "        \n",
    "        elif x==0 and y==1:\n",
    "            return (4, 1), 10\n",
    "        \n",
    "        elif x==0 and y==3:\n",
    "            return (2, 3), 5\n",
    "        \n",
    "        elif action=='N':\n",
    "            return (x-1, y), 0\n",
    "        elif action=='S':\n",
    "            return (x+1, y), 0\n",
    "        elif action=='E':\n",
    "            return (x, y+1), 0\n",
    "        elif action=='W':\n",
    "            return (x, y-1), 0\n",
    "        \n",
    "        else:\n",
    "            print(\"Unknown state or action:\", state, action)\n",
    "            \n",
    "    def get_new_value_estimate(self, i, j):\n",
    "#         temp = 0\n",
    "        prev_max = -np.inf\n",
    "        for action in self.actions:\n",
    "            a, b = self.get_new_state_reward((i, j), action)\n",
    "            c = self.gamma * self.grid_values[a[0], a[1]] + b\n",
    "            if prev_max < c:\n",
    "                prev_max = c\n",
    "            \n",
    "        return prev_max\n",
    "            \n",
    "    def value_iteration(self):\n",
    "        for i in range(self.grid_size):\n",
    "            for j in range(self.grid_size):\n",
    "                self.grid_values[i, j] = self.get_new_value_estimate(i, j)\n",
    "                \n",
    "    def get_grid(self):\n",
    "        for i in range(10000):\n",
    "            self.value_iteration()\n",
    "#             print(\"Iteration:\", i)\n",
    "        print(np.round(self.grid_values, decimals=1), \"\\n\")\n",
    "            "
   ]
  },
  {
   "cell_type": "code",
   "execution_count": 5,
   "metadata": {},
   "outputs": [
    {
     "name": "stdout",
     "output_type": "stream",
     "text": [
      "[[ 3.3  8.8  4.4  5.3  1.5]\n",
      " [ 1.5  3.   2.3  1.9  0.5]\n",
      " [ 0.1  0.7  0.7  0.4 -0.4]\n",
      " [-1.  -0.4 -0.4 -0.6 -1.2]\n",
      " [-1.9 -1.3 -1.2 -1.4 -2. ]]\n"
     ]
    }
   ],
   "source": [
    "\"\"\"\n",
    "Q2. \n",
    "\n",
    "We attempt to solve the system of 25 linear equations (1 equation per state)\n",
    "using Ax = b, where A is a matrix of coefficients of the equations, x is a\n",
    "a vector of all state values and b is a vector of constants obtained from the \n",
    "system of equations.\n",
    "\n",
    "This can be done using the numpy library.\n",
    "\"\"\"\n",
    "import numpy as np\n",
    "from numpy import linalg\n",
    "\n",
    "A = np.zeros((25, 25), dtype=np.float32)\n",
    "b = np.zeros((25,), dtype=np.float32)\n",
    "with open('variable_coeffs.csv', 'r') as f:\n",
    "    lines = f.readlines()\n",
    "    \n",
    "for i, line in enumerate(lines):\n",
    "    A[i] = np.asarray(list(map(float, line.split(\",\"))))\n",
    "    \n",
    "with open('constants.csv', 'r') as f:\n",
    "    lines = f.readlines()\n",
    "    \n",
    "for i, line in enumerate(lines):\n",
    "    b[i] = np.asarray(list(map(float, line.split(\",\"))))\n",
    "    \n",
    "# print(A)\n",
    "# print(b)\n",
    "\n",
    "x = linalg.solve(A, b)\n",
    "x = np.reshape(x, (5, 5))\n",
    "print(np.round(x, decimals=1))"
   ]
  },
  {
   "cell_type": "code",
   "execution_count": 12,
   "metadata": {},
   "outputs": [
    {
     "name": "stdout",
     "output_type": "stream",
     "text": [
      "[[22.  24.4 22.  19.4 17.5]\n",
      " [19.8 22.  19.8 17.8 16. ]\n",
      " [17.8 19.8 17.8 16.  14.4]\n",
      " [16.  17.8 16.  14.4 13. ]\n",
      " [14.4 16.  14.4 13.  11.7]] \n",
      "\n"
     ]
    }
   ],
   "source": [
    "\"\"\"\n",
    "Q4. \n",
    "\n",
    "We solve for optimal state values by picking actions corresponding max return of rewards and solving \n",
    "Belman equations using Value Iteration. I iterate for 10,000 steps considering gamma^10,000 ~ 0 hence \n",
    "rewards will have converged as well. \n",
    "\"\"\"\n",
    "A = gridWorld()\n",
    "A.get_grid()"
   ]
  },
  {
   "cell_type": "code",
   "execution_count": null,
   "metadata": {},
   "outputs": [],
   "source": []
  }
 ],
 "metadata": {
  "kernelspec": {
   "display_name": "Python 3",
   "language": "python",
   "name": "python3"
  },
  "language_info": {
   "codemirror_mode": {
    "name": "ipython",
    "version": 3
   },
   "file_extension": ".py",
   "mimetype": "text/x-python",
   "name": "python",
   "nbconvert_exporter": "python",
   "pygments_lexer": "ipython3",
   "version": "3.6.8"
  }
 },
 "nbformat": 4,
 "nbformat_minor": 2
}
