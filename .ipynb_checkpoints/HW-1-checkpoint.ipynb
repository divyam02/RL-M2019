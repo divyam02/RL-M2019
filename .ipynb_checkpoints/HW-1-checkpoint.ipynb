{
 "cells": [
  {
   "cell_type": "code",
   "execution_count": 2,
   "metadata": {},
   "outputs": [],
   "source": [
    "# Import libs\n",
    "import random\n",
    "import matplotlib.pyplot as plt\n",
    "import numpy as np"
   ]
  },
  {
   "cell_type": "code",
   "execution_count": null,
   "metadata": {},
   "outputs": [],
   "source": [
    "# Base bandit class\n",
    "class bandit(q_opt, Q_init=0):\n",
    "    self.q_opt = q_opt\n",
    "    self.Q_value = Q_init\n",
    "    self.n = 0\n",
    "    \n",
    "    def get_Q_value(self):\n",
    "        return self.Q_value\n",
    "    \n",
    "    def get_reward(self):\n",
    "        return random.gauss(self.q_opt, 1)\n",
    "    \n",
    "    def update_Q_value(self, reward):\n",
    "        self.n += 1\n",
    "        self.Q_value += (reward - self.Q_value)/self.n\n",
    "        \n",
    "    def update_Q_value_constant_step(self, reward, alpha, noise=False):\n",
    "        self.n += 1\n",
    "        self.Q_value += alpha * (reward - self.Q_value)\n",
    "        if noise:\n",
    "            self.q_opt += random.gauss(0, 0.01)"
   ]
  },
  {
   "cell_type": "code",
   "execution_count": null,
   "metadata": {},
   "outputs": [],
   "source": [
    "# Multi-armed bandit class\n",
    "class multiArmedBandit(k=10):\n",
    "    self.bandits = [bandit(random.gauss(0, 1)) for i in range(k)]\n",
    "    \n",
    "    def get_Q_values(self):\n",
    "        \"\"\"\n",
    "        Return a list of current Q values for all bandits.\n",
    "        \"\"\"\n",
    "        temp = list()\n",
    "        for bandit in self.bandits:\n",
    "            temp.append(bandit.get_Q_value())\n",
    "        \n",
    "        return temp\n",
    "    \n",
    "    def epsilon_greedy_action(self, epsilon):\n",
    "        p = random.random()\n",
    "        if p<=epsilon:\n",
    "            return random.randint(0, 9)\n",
    "        else:\n",
    "            return np.argmax(np.asarray(self.get_Q_values()))\n",
    "        \n",
    "    def exp(self, runs=2000, steps=1000):\n",
    "        pass\n",
    "    \n",
    "    def Q1(self, alpha=0.1, epsilon=0.1, runs=2000, steps=10000):\n",
    "        pass\n",
    "    \n",
    "    def Q2(self, runs=2000, steps=1000, Q_init=5):\n",
    "        pass"
   ]
  },
  {
   "cell_type": "code",
   "execution_count": null,
   "metadata": {},
   "outputs": [],
   "source": []
  }
 ],
 "metadata": {
  "kernelspec": {
   "display_name": "Python 3",
   "language": "python",
   "name": "python3"
  },
  "language_info": {
   "codemirror_mode": {
    "name": "ipython",
    "version": 3
   },
   "file_extension": ".py",
   "mimetype": "text/x-python",
   "name": "python",
   "nbconvert_exporter": "python",
   "pygments_lexer": "ipython3",
   "version": "3.6.8"
  }
 },
 "nbformat": 4,
 "nbformat_minor": 2
}
